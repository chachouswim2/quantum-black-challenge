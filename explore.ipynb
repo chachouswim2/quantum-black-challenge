{
 "cells": [
  {
   "cell_type": "code",
   "execution_count": null,
   "id": "35a7dc9a-24e4-46ca-a2cc-5d8a1b3ba39d",
   "metadata": {},
   "outputs": [],
   "source": [
    "import numpy as np\n",
    "import pandas as pd\n",
    "import cv2\n",
    "import os\n",
    "import random\n",
    "\n",
    "import matplotlib.pyplot as plt\n",
    "import matplotlib.image as mpimg\n",
    "\n",
    "import sys\n",
    "import config\n",
    "\n",
    "sys.path.append('model_building/create_image_folders.py')\n",
    "from model_building.create_image_folders import * \n",
    "sys.path.append('model_building/cnn_model_keras.py')\n",
    "from model_building.cnn_model_keras import *\n",
    "\n",
    "import warnings\n",
    "warnings.simplefilter(\"ignore\", UserWarning)\n"
   ]
  },
  {
   "cell_type": "markdown",
   "id": "8b6b9a18-3628-4eb2-908e-91f210401e29",
   "metadata": {},
   "source": [
    "## Load Data"
   ]
  },
  {
   "cell_type": "code",
   "execution_count": null,
   "id": "88918cb2-3777-4b13-8d57-8894cb4987a9",
   "metadata": {},
   "outputs": [],
   "source": [
    "## Set paths\n",
    "img_folder = \"/home/jovyan/my_work/QB/image/images/\"\n",
    "train_img = \"/home/jovyan/my_work/QB/image/train/\"\n",
    "val_img = \"/home/jovyan/my_work/QB/image/val/\"\n",
    "labels_image = \"data/x-ai_data.csv\""
   ]
  },
  {
   "cell_type": "markdown",
   "id": "102801e9-5f01-4cb4-bec7-9e7f9ba2e42c",
   "metadata": {},
   "source": [
    "## Create Subfolder"
   ]
  },
  {
   "cell_type": "markdown",
   "id": "6da17ccb",
   "metadata": {},
   "source": [
    "Use the fonction \"subfolders\" to do the same thing as the cells below, DO NOT run it twice to avoid duplicates"
   ]
  },
  {
   "cell_type": "code",
   "execution_count": null,
   "id": "f72f1bdb-ad89-451a-8721-83615ae0b891",
   "metadata": {},
   "outputs": [],
   "source": [
    "labels_image = pd.read_csv(labels_image)\n",
    "train = labels_image.loc[labels_image['split']=='train']\n",
    "val = labels_image.loc[labels_image['split']=='validation']"
   ]
  },
  {
   "cell_type": "code",
   "execution_count": null,
   "id": "81d57c63-4fa7-4757-ae53-288c7c764b0c",
   "metadata": {},
   "outputs": [],
   "source": [
    "train0 = train.loc[train['class']==0]\n",
    "train1 = train.loc[train['class']==1]\n",
    "\n",
    "val0 = val.loc[val['class']==0]\n",
    "val1 = val.loc[val['class']==1]\n"
   ]
  },
  {
   "cell_type": "code",
   "execution_count": null,
   "id": "4907e31e-9792-45e1-912d-d26e435437ad",
   "metadata": {},
   "outputs": [],
   "source": [
    "#Move TRAIN images labeled 0 to the correct folder\n",
    "\n",
    "for i in train0.index:\n",
    "    im = cv2.imread(img_folder+train0.loc[i,'filename'])\n",
    "    cv2.imwrite(train_img + '0/' +train0.loc[i,'filename'], im)\n",
    "#Move TRAIN images labeled 1 to the correct folder\n",
    "for i in train1.index:\n",
    "    im = cv2.imread(img_folder+train1.loc[i,'filename'])\n",
    "    cv2.imwrite(train_img+'1/' +train1.loc[i,'filename'], im)"
   ]
  },
  {
   "cell_type": "code",
   "execution_count": null,
   "id": "072867bb-f74a-4512-b0c6-b3f7dc18b5bc",
   "metadata": {},
   "outputs": [],
   "source": [
    "#Move val images labeled 0 to the correct folder\n",
    "for i in val0.index:\n",
    "    im = cv2.imread(img_folder+val0.loc[i,'filename'])\n",
    "    cv2.imwrite(val_img + '0/' +val0.loc[i,'filename'], im)\n",
    "#Move val images labeled 1 to the correct folder\n",
    "for i in val1.index:\n",
    "    im = cv2.imread(img_folder+val1.loc[i,'filename'])\n",
    "    cv2.imwrite(val_img+'1/' +val1.loc[i,'filename'], im)"
   ]
  },
  {
   "cell_type": "code",
   "execution_count": null,
   "id": "d20ec78c-a0d0-4087-b55e-2e62f8721e20",
   "metadata": {},
   "outputs": [],
   "source": [
    "import shutil\n",
    "\n",
    "#Remove hidden file\n",
    "shutil.rmtree(\"image/train/.ipynb_checkpoints\")\n",
    "shutil.rmtree(\"image/val/.ipynb_checkpoints\")"
   ]
  },
  {
   "cell_type": "markdown",
   "id": "f04342dc-aaf4-4080-95eb-d9b17535ac88",
   "metadata": {},
   "source": [
    "## Model"
   ]
  },
  {
   "cell_type": "code",
   "execution_count": null,
   "id": "9d239954-82a8-41be-99df-59c49ef5e995",
   "metadata": {},
   "outputs": [],
   "source": [
    "## Train and Val dataset\n",
    "train_ds = train_set(train_img, config.image_size, config.batch_size)\n",
    "val_ds = val_set(val_img, config.image_size, config.batch_size)"
   ]
  },
  {
   "cell_type": "code",
   "execution_count": null,
   "id": "08c06133-847f-40cd-a951-f3a3bcb5c820",
   "metadata": {},
   "outputs": [],
   "source": [
    "plt.figure(figsize=(10, 10))\n",
    "for images, labels in train_ds.take(1):\n",
    "    for i in range(9):\n",
    "        ax = plt.subplot(3, 3, i + 1)\n",
    "        plt.imshow(images[i].numpy().astype(\"uint8\"))\n",
    "        plt.title(int(labels[i]))\n",
    "        plt.axis(\"off\")"
   ]
  },
  {
   "cell_type": "code",
   "execution_count": null,
   "id": "20c3ba38-785c-4bbf-a415-ec82cb0057c0",
   "metadata": {},
   "outputs": [],
   "source": [
    "## Model\n",
    "model = make_model(input_shape=config.image_size + (3,), num_classes=2)"
   ]
  },
  {
   "cell_type": "code",
   "execution_count": null,
   "id": "089a425d-73d4-440d-a71a-e158b8c0a6b8",
   "metadata": {},
   "outputs": [],
   "source": [
    "train_model(model, train_ds, val_ds, 2)"
   ]
  },
  {
   "cell_type": "code",
   "execution_count": null,
   "id": "8faf7c30-6672-453c-8d44-e1f229dd99a9",
   "metadata": {},
   "outputs": [],
   "source": [
    "model.save(\"model2.h5\")"
   ]
  },
  {
   "cell_type": "code",
   "execution_count": null,
   "id": "130a03c1-b31e-4f3a-a01c-1c737fe547e8",
   "metadata": {},
   "outputs": [],
   "source": [
    "#visualize data augmentation\n",
    "data_augmentation = keras.Sequential(\n",
    "    [\n",
    "        layers.RandomFlip(\"horizontal_and_vertical\"),\n",
    "        layers.RandomRotation(0.1),\n",
    "        layers.RandomContrast([0,1]),\n",
    "        layers.RandomTranslation(height_factor=0.2, width_factor=0.2)\n",
    "    ]\n",
    ")\n",
    "plt.figure(figsize=(10, 10))\n",
    "for images, _ in train_ds.take(1):\n",
    "    for i in range(9):\n",
    "        augmented_images = data_augmentation(images)\n",
    "        ax = plt.subplot(3, 3, i + 1)\n",
    "        plt.imshow(augmented_images[0].numpy().astype(\"uint8\"))\n",
    "        plt.axis(\"off\")"
   ]
  },
  {
   "cell_type": "markdown",
   "id": "c95f9e96-bd86-46c1-bcc5-ee24e86f3c4a",
   "metadata": {},
   "source": [
    "## try test set"
   ]
  },
  {
   "cell_type": "code",
   "execution_count": null,
   "id": "001df99d-e28b-4ebf-af91-51e6c005158c",
   "metadata": {},
   "outputs": [],
   "source": [
    "labels_image = pd.read_csv(labels_image)\n",
    "\n",
    "test = labels_image.loc[labels_image['split']=='test']\n",
    "test"
   ]
  },
  {
   "cell_type": "code",
   "execution_count": null,
   "id": "ed5efca6-c89d-405b-a516-e72b7853dac1",
   "metadata": {},
   "outputs": [],
   "source": [
    "test_img = \"/home/jovyan/my_work/QB/image/test/\"\n",
    "#Inside the test folder create another test folder"
   ]
  },
  {
   "cell_type": "code",
   "execution_count": null,
   "id": "e3483a22-667b-42d0-b365-e9e0bec342f4",
   "metadata": {},
   "outputs": [],
   "source": [
    "#Move TEST images to the correct folder\n",
    "for i in test.index:\n",
    "    im = cv2.imread(img_folder+test.loc[i,'filename'])\n",
    "    cv2.imwrite(test_img + 'test/' + test.loc[i,'filename'], im)"
   ]
  },
  {
   "cell_type": "code",
   "execution_count": null,
   "id": "03e581e9-cc89-445e-b354-e7c67ff0706b",
   "metadata": {},
   "outputs": [],
   "source": [
    "import shutil\n",
    "\n",
    "shutil.rmtree(\"image/test/.ipynb_checkpoints\")"
   ]
  },
  {
   "cell_type": "code",
   "execution_count": null,
   "id": "9cbc9ed3-7078-4e11-81a7-2fd4596f9995",
   "metadata": {},
   "outputs": [],
   "source": [
    "from keras.models import Sequential\n",
    "from keras.layers import Conv2D, MaxPooling2D\n",
    "from keras.layers import Activation, Dropout, Flatten, Dense\n",
    "\n",
    "model = Sequential()\n",
    "model.add(Conv2D(32, (2, 2), input_shape=(256,256,3)))\n",
    "model.add(Activation('relu'))\n",
    "model.add(MaxPooling2D(pool_size=(2, 2)))\n",
    "  \n",
    "model.add(Conv2D(32, (2, 2)))\n",
    "model.add(Activation('relu'))\n",
    "model.add(MaxPooling2D(pool_size=(2, 2)))\n",
    "  \n",
    "model.add(Conv2D(64, (2, 2)))\n",
    "model.add(Activation('relu'))\n",
    "model.add(MaxPooling2D(pool_size=(2, 2)))\n",
    "  \n",
    "model.add(Flatten())\n",
    "model.add(Dense(64))\n",
    "model.add(Activation('relu'))\n",
    "model.add(Dropout(0.5))\n",
    "model.add(Dense(1))\n",
    "model.add(Activation('sigmoid'))"
   ]
  },
  {
   "cell_type": "code",
   "execution_count": null,
   "id": "0a766155-e825-408e-9f3a-e71b3647d578",
   "metadata": {},
   "outputs": [],
   "source": [
    "model.compile(loss='binary_crossentropy',\n",
    "              optimizer='rmsprop',\n",
    "              metrics=['accuracy'])"
   ]
  },
  {
   "cell_type": "code",
   "execution_count": null,
   "id": "d7156dd3-58b7-47d1-b4a8-89e6c21cfd21",
   "metadata": {},
   "outputs": [],
   "source": [
    "from keras.preprocessing.image import ImageDataGenerator\n",
    "\n",
    "train_datagen = ImageDataGenerator(\n",
    "    rescale=1. / 255,\n",
    "    shear_range=0.2,\n",
    "    zoom_range=0.2,\n",
    "    horizontal_flip=True)\n",
    "  \n",
    "test_datagen = ImageDataGenerator(rescale=1. / 255)"
   ]
  },
  {
   "cell_type": "code",
   "execution_count": null,
   "id": "92ef1dd7-693e-4920-a2ec-d5f8349fb5bd",
   "metadata": {},
   "outputs": [],
   "source": [
    "train_generator = train_datagen.flow_from_directory(\n",
    "    train_img,\n",
    "    target_size=(256, 256),\n",
    "    batch_size=config.batch_size,\n",
    "    class_mode='binary')"
   ]
  },
  {
   "cell_type": "code",
   "execution_count": null,
   "id": "6142006b-e1c3-46e8-ace0-427a45dce8f1",
   "metadata": {},
   "outputs": [],
   "source": [
    "validation_generator = test_datagen.flow_from_directory(\n",
    "    val_img,\n",
    "    target_size=(256, 256),\n",
    "    batch_size=config.batch_size,\n",
    "    class_mode='binary')"
   ]
  },
  {
   "cell_type": "code",
   "execution_count": null,
   "id": "b74a0dfb-fdfb-4422-9806-7bd28d25f736",
   "metadata": {},
   "outputs": [],
   "source": [
    "model.fit_generator(\n",
    "    train_generator,\n",
    "    steps_per_epoch=1400 // config.batch_size,\n",
    "    epochs=5,\n",
    "    validation_data=validation_generator,\n",
    "    validation_steps=400 // config.batch_size)"
   ]
  },
  {
   "cell_type": "code",
   "execution_count": null,
   "id": "2218c613-d06b-4921-a8b5-0b355761aad9",
   "metadata": {},
   "outputs": [],
   "source": [
    "from tensorflow.keras.models import load_model\n",
    "\n",
    "model.save(\"model3.h5\")\n",
    "model3 = load_model(\"model3.h5\")"
   ]
  },
  {
   "cell_type": "code",
   "execution_count": null,
   "id": "13bb84f2-e4a9-448f-9df3-6ea467ad0518",
   "metadata": {},
   "outputs": [],
   "source": [
    "from keras.preprocessing.image import load_img\n",
    "from keras.preprocessing.image import img_to_array\n",
    "\n",
    "image = load_img('my_work/QB/image/test/silos_256-0-0--6-16-472-29195.png', target_size=(256, 256))\n",
    "img = np.array(image)\n",
    "img = img / 255.0\n",
    "img = img.reshape(1,256,256,3)\n",
    "label = model.predict(img)\n",
    "print(\"Predicted Class (0 - No Silo , 1- Silo): \", label[0][0])"
   ]
  },
  {
   "cell_type": "code",
   "execution_count": null,
   "id": "fe6b8c5d-5828-4414-ab5d-214daefcd50d",
   "metadata": {},
   "outputs": [],
   "source": []
  },
  {
   "cell_type": "code",
   "execution_count": null,
   "id": "90a2bb5e-1f92-4572-b120-6b2432086379",
   "metadata": {},
   "outputs": [],
   "source": [
    "test_generator = test_datagen.flow_from_directory(\n",
    "    test_img,\n",
    "    target_size=(256, 256),\n",
    "    batch_size=config.batch_size,\n",
    "    class_mode=None,\n",
    "    shuffle=False\n",
    "    )"
   ]
  },
  {
   "cell_type": "code",
   "execution_count": null,
   "id": "150c617d-3db4-4358-825d-e6ea696b200d",
   "metadata": {},
   "outputs": [],
   "source": [
    "test_generator.reset()"
   ]
  },
  {
   "cell_type": "code",
   "execution_count": null,
   "id": "80dd2db3-3b61-43d8-9468-bbb2ca88c9c0",
   "metadata": {},
   "outputs": [],
   "source": [
    "predictions = model3.predict_generator(test_generator,verbose=1,steps=200/config.batch_size)\n",
    "predictions"
   ]
  },
  {
   "cell_type": "code",
   "execution_count": null,
   "id": "4d185d0d-1eae-46d0-a630-128e3c08e0e9",
   "metadata": {},
   "outputs": [],
   "source": [
    "predicted_class_indices= np.round(predictions).astype(int)"
   ]
  },
  {
   "cell_type": "code",
   "execution_count": null,
   "id": "f54bda50-c953-49ee-8d78-66f2a72717d2",
   "metadata": {},
   "outputs": [],
   "source": [
    "labels = (train_generator.class_indices)\n",
    "labels = dict((v,k) for k,v in labels.items())\n",
    "predictions = [labels[k] for k in predicted_class_indices[:,0]]"
   ]
  },
  {
   "cell_type": "code",
   "execution_count": null,
   "id": "faa89d2f-fd93-434a-a07d-c93239fbe060",
   "metadata": {},
   "outputs": [],
   "source": [
    "filenames=test_generator.filenames\n",
    "results=pd.DataFrame({\"Filename\":filenames,\n",
    "                      \"Predictions\":predictions})"
   ]
  },
  {
   "cell_type": "code",
   "execution_count": null,
   "id": "bad656d2-df77-4594-b0c2-35ff37dfe9fb",
   "metadata": {},
   "outputs": [],
   "source": [
    "results"
   ]
  },
  {
   "cell_type": "code",
   "execution_count": null,
   "id": "d6089c54-7746-44d8-aecc-b4586d7a3b6b",
   "metadata": {},
   "outputs": [],
   "source": []
  }
 ],
 "metadata": {
  "kernelspec": {
   "display_name": "Python 3 (ipykernel)",
   "language": "python",
   "name": "python3"
  },
  "language_info": {
   "codemirror_mode": {
    "name": "ipython",
    "version": 3
   },
   "file_extension": ".py",
   "mimetype": "text/x-python",
   "name": "python",
   "nbconvert_exporter": "python",
   "pygments_lexer": "ipython3",
   "version": "3.8.13"
  },
  "vscode": {
   "interpreter": {
    "hash": "c4b1a4a749a8d48ef741ed32095ab3a7e8b65ab1c4196700a52abd92786a361c"
   }
  }
 },
 "nbformat": 4,
 "nbformat_minor": 5
}
