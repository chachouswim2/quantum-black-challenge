{
 "cells": [
  {
   "cell_type": "code",
   "execution_count": null,
   "id": "35a7dc9a-24e4-46ca-a2cc-5d8a1b3ba39d",
   "metadata": {},
   "outputs": [],
   "source": [
    "import numpy as np\n",
    "import pandas as pd\n",
    "import cv2\n",
    "import os\n",
    "import random\n",
    "\n",
    "import matplotlib.pyplot as plt\n",
    "import matplotlib.image as mpimg\n",
    "\n",
    "import sys\n",
    "import config\n",
    "\n",
    "sys.path.append('model_building/create_image_folders.py')\n",
    "from model_building.create_image_folders import * \n",
    "sys.path.append('model_building/keras_model.py')\n",
    "from model_building.keras_model import *\n",
    "\n",
    "import warnings\n",
    "warnings.simplefilter(\"ignore\", UserWarning)\n"
   ]
  },
  {
   "cell_type": "markdown",
   "id": "8b6b9a18-3628-4eb2-908e-91f210401e29",
   "metadata": {},
   "source": [
    "## Load Data"
   ]
  },
  {
   "cell_type": "code",
   "execution_count": null,
   "id": "88918cb2-3777-4b13-8d57-8894cb4987a9",
   "metadata": {},
   "outputs": [],
   "source": [
    "## Set paths\n",
    "img_folder = \"/home/jovyan/my_work/QB/image/images/\"\n",
    "train_img = \"/home/jovyan/my_work/QB/image/train/\"\n",
    "val_img = \"/home/jovyan/my_work/QB/image/val/\"\n",
    "labels_image = \"data/x-ai_data.csv\""
   ]
  },
  {
   "cell_type": "markdown",
   "id": "102801e9-5f01-4cb4-bec7-9e7f9ba2e42c",
   "metadata": {},
   "source": [
    "## Create Subfolder"
   ]
  },
  {
   "cell_type": "markdown",
   "id": "6da17ccb",
   "metadata": {},
   "source": [
    "Use the fonction \"subfolders\" to do the same thing as the cells below, DO NOT run it twice to avoid duplicates"
   ]
  },
  {
   "cell_type": "code",
   "execution_count": null,
   "id": "f72f1bdb-ad89-451a-8721-83615ae0b891",
   "metadata": {},
   "outputs": [],
   "source": [
    "train = labels_image.loc[labels_image['split']=='train']\n",
    "val = labels_image.loc[labels_image['split']=='validation']"
   ]
  },
  {
   "cell_type": "code",
   "execution_count": null,
   "id": "81d57c63-4fa7-4757-ae53-288c7c764b0c",
   "metadata": {},
   "outputs": [],
   "source": [
    "train0 = train.loc[train['class']==0]\n",
    "train1 = train.loc[train['class']==1]\n",
    "\n",
    "val0 = val.loc[val['class']==0]\n",
    "val1 = val.loc[val['class']==1]\n"
   ]
  },
  {
   "cell_type": "code",
   "execution_count": null,
   "id": "4907e31e-9792-45e1-912d-d26e435437ad",
   "metadata": {},
   "outputs": [],
   "source": [
    "#Move TRAIN images labeled 0 to the correct folder\n",
    "\n",
    "for i in train0.index:\n",
    "    im = cv2.imread(img_folder+train0.loc[i,'filename'])\n",
    "    cv2.imwrite(train_img + '0/' +train0.loc[i,'filename'], im)\n",
    "#Move TRAIN images labeled 1 to the correct folder\n",
    "for i in train1.index:\n",
    "    im = cv2.imread(img_folder+train1.loc[i,'filename'])\n",
    "    cv2.imwrite(train_img+'1/' +train1.loc[i,'filename'], im)"
   ]
  },
  {
   "cell_type": "code",
   "execution_count": null,
   "id": "072867bb-f74a-4512-b0c6-b3f7dc18b5bc",
   "metadata": {},
   "outputs": [],
   "source": [
    "#Move val images labeled 0 to the correct folder\n",
    "for i in val0.index:\n",
    "    im = cv2.imread(img_folder+val0.loc[i,'filename'])\n",
    "    cv2.imwrite(val_img + '0/' +val0.loc[i,'filename'], im)\n",
    "#Move val images labeled 1 to the correct folder\n",
    "for i in val1.index:\n",
    "    im = cv2.imread(img_folder+val1.loc[i,'filename'])\n",
    "    cv2.imwrite(val_img+'1/' +val1.loc[i,'filename'], im)"
   ]
  },
  {
   "cell_type": "code",
   "execution_count": null,
   "id": "d20ec78c-a0d0-4087-b55e-2e62f8721e20",
   "metadata": {},
   "outputs": [],
   "source": [
    "import shutil\n",
    "\n",
    "#Remove hidden file\n",
    "shutil.rmtree(\"image/train/.ipynb_checkpoints\")\n",
    "shutil.rmtree(\"image/val/.ipynb_checkpoints\")"
   ]
  },
  {
   "cell_type": "markdown",
   "id": "f04342dc-aaf4-4080-95eb-d9b17535ac88",
   "metadata": {},
   "source": [
    "## Model"
   ]
  },
  {
   "cell_type": "code",
   "execution_count": null,
   "id": "9d239954-82a8-41be-99df-59c49ef5e995",
   "metadata": {},
   "outputs": [],
   "source": [
    "## Train and Val dataset\n",
    "train_ds = train_set(train_img, config.image_size, config.batch_size)\n",
    "val_ds = val_set(val_img, config.image_size, config.batch_size)"
   ]
  },
  {
   "cell_type": "code",
   "execution_count": null,
   "id": "08c06133-847f-40cd-a951-f3a3bcb5c820",
   "metadata": {},
   "outputs": [],
   "source": [
    "plt.figure(figsize=(10, 10))\n",
    "for images, labels in train_ds.take(1):\n",
    "    for i in range(9):\n",
    "        ax = plt.subplot(3, 3, i + 1)\n",
    "        plt.imshow(images[i].numpy().astype(\"uint8\"))\n",
    "        plt.title(int(labels[i]))\n",
    "        plt.axis(\"off\")"
   ]
  },
  {
   "cell_type": "code",
   "execution_count": null,
   "id": "20c3ba38-785c-4bbf-a415-ec82cb0057c0",
   "metadata": {},
   "outputs": [],
   "source": [
    "## Model\n",
    "model = make_model(input_shape=config.image_size + (3,), num_classes=2)"
   ]
  },
  {
   "cell_type": "code",
   "execution_count": null,
   "id": "089a425d-73d4-440d-a71a-e158b8c0a6b8",
   "metadata": {},
   "outputs": [],
   "source": [
    "train_model(model, train_ds, val_ds, config.number_epochs)"
   ]
  },
  {
   "cell_type": "code",
   "execution_count": null,
   "id": "130a03c1-b31e-4f3a-a01c-1c737fe547e8",
   "metadata": {},
   "outputs": [],
   "source": [
    "#visualize data augmentation\n",
    "data_augmentation = keras.Sequential(\n",
    "    [\n",
    "        layers.RandomFlip(\"horizontal_and_vertical\"),\n",
    "        layers.RandomRotation(0.1),\n",
    "        layers.RandomContrast([0,1]),\n",
    "        layers.RandomTranslation(height_factor=0.2, width_factor=0.2)\n",
    "    ]\n",
    ")\n",
    "plt.figure(figsize=(10, 10))\n",
    "for images, _ in train_ds.take(1):\n",
    "    for i in range(9):\n",
    "        augmented_images = data_augmentation(images)\n",
    "        ax = plt.subplot(3, 3, i + 1)\n",
    "        plt.imshow(augmented_images[0].numpy().astype(\"uint8\"))\n",
    "        plt.axis(\"off\")"
   ]
  },
  {
   "cell_type": "code",
   "execution_count": null,
   "id": "3f0a1dbf-8e98-49ad-9a5c-d2efa61cbae8",
   "metadata": {},
   "outputs": [],
   "source": []
  },
  {
   "cell_type": "code",
   "execution_count": null,
   "id": "43215a95-2297-4135-87c3-45878ce748c0",
   "metadata": {},
   "outputs": [],
   "source": []
  }
 ],
 "metadata": {
  "kernelspec": {
   "display_name": "Python 3 (ipykernel)",
   "language": "python",
   "name": "python3"
  },
  "language_info": {
   "codemirror_mode": {
    "name": "ipython",
    "version": 3
   },
   "file_extension": ".py",
   "mimetype": "text/x-python",
   "name": "python",
   "nbconvert_exporter": "python",
   "pygments_lexer": "ipython3",
   "version": "3.8.13"
  },
  "vscode": {
   "interpreter": {
    "hash": "c4b1a4a749a8d48ef741ed32095ab3a7e8b65ab1c4196700a52abd92786a361c"
   }
  }
 },
 "nbformat": 4,
 "nbformat_minor": 5
}
