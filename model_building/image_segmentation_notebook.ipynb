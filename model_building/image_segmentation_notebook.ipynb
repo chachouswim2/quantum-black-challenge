{
 "cells": [
  {
   "cell_type": "code",
   "execution_count": 1,
   "metadata": {},
   "outputs": [],
   "source": [
    "import numpy as np\n",
    "import os\n",
    "from pathlib import Path\n",
    "import PIL\n",
    "import PIL.Image\n",
    "\n",
    "import tensorflow as tf"
   ]
  },
  {
   "cell_type": "code",
   "execution_count": 2,
   "metadata": {},
   "outputs": [],
   "source": [
    "path = Path().resolve().parents[0]\n",
    "img_dir = os.path.join(path, 'data\\\\ai_ready\\\\images')\n",
    "msk_dir = os.path.join(path, 'data\\\\ai_ready\\\\masks')"
   ]
  },
  {
   "cell_type": "code",
   "execution_count": 3,
   "metadata": {},
   "outputs": [],
   "source": [
    "batch_size = 2000\n",
    "img_height = 256\n",
    "img_width = 256\n",
    "\n",
    "seed = 123"
   ]
  },
  {
   "cell_type": "code",
   "execution_count": 17,
   "metadata": {},
   "outputs": [],
   "source": [
    "tf_Dataset_args_rgb=dict(labels=None,\n",
    "                     label_mode=None,\n",
    "                     validation_split=0.2,\n",
    "                     seed=seed,\n",
    "                     batch_size=batch_size,\n",
    "                     image_size=(img_height, img_width),\n",
    "                     shuffle=False,\n",
    "                     color_mode=\"rgb\"\n",
    "                     )\n",
    "\n",
    "tf_Dataset_args_gs=dict(labels=None,\n",
    "                     label_mode=None,\n",
    "                     validation_split=0.2,\n",
    "                     seed=seed,\n",
    "                     batch_size=batch_size,\n",
    "                     image_size=(img_height, img_width),\n",
    "                     shuffle=False,\n",
    "                     color_mode=\"grayscale\"\n",
    "                     )"
   ]
  },
  {
   "cell_type": "code",
   "execution_count": 24,
   "metadata": {},
   "outputs": [
    {
     "name": "stdout",
     "output_type": "stream",
     "text": [
      "Found 1999 files belonging to 1 classes.\n",
      "Using 1600 files for training.\n"
     ]
    }
   ],
   "source": [
    "train_image_ds = tf.keras.utils.image_dataset_from_directory(img_dir,\n",
    "                                                             subset=\"training\",\n",
    "                                                             **tf_Dataset_args_rgb\n",
    "                                                             )"
   ]
  },
  {
   "cell_type": "code",
   "execution_count": 25,
   "metadata": {},
   "outputs": [
    {
     "name": "stdout",
     "output_type": "stream",
     "text": [
      "Found 1999 files belonging to 1 classes.\n",
      "Using 399 files for validation.\n"
     ]
    }
   ],
   "source": [
    "validation_image_ds = tf.keras.utils.image_dataset_from_directory(img_dir,\n",
    "                                                                  subset=\"validation\",\n",
    "                                                                  **tf_Dataset_args_rgb\n",
    "                                                                  )"
   ]
  },
  {
   "cell_type": "code",
   "execution_count": 26,
   "metadata": {},
   "outputs": [
    {
     "name": "stdout",
     "output_type": "stream",
     "text": [
      "Found 1999 files belonging to 1 classes.\n",
      "Using 1600 files for training.\n"
     ]
    }
   ],
   "source": [
    "train_masks_ds = tf.keras.utils.image_dataset_from_directory(msk_dir,\n",
    "                                                             subset=\"training\",\n",
    "                                                             **tf_Dataset_args_gs\n",
    "                                                             )"
   ]
  },
  {
   "cell_type": "code",
   "execution_count": 27,
   "metadata": {
    "scrolled": true
   },
   "outputs": [
    {
     "name": "stdout",
     "output_type": "stream",
     "text": [
      "Found 1999 files belonging to 1 classes.\n",
      "Using 399 files for validation.\n"
     ]
    }
   ],
   "source": [
    "validation_masks_ds = tf.keras.utils.image_dataset_from_directory(msk_dir,\n",
    "                                                                  subset=\"validation\",\n",
    "                                                                  **tf_Dataset_args_gs\n",
    "                                                                  )"
   ]
  },
  {
   "cell_type": "code",
   "execution_count": 28,
   "metadata": {},
   "outputs": [],
   "source": [
    "train_set=list(zip(train_image_ds, train_masks_ds))[0]\n",
    "validation_set=list(zip(validation_image_ds, validation_masks_ds))[0]\n",
    "\n",
    "training_data = tf.data.Dataset.from_tensor_slices(train_set)\n",
    "validation_data = tf.data.Dataset.from_tensor_slices(validation_set)"
   ]
  },
  {
   "cell_type": "code",
   "execution_count": null,
   "metadata": {},
   "outputs": [],
   "source": []
  }
 ],
 "metadata": {
  "kernelspec": {
   "display_name": "Python 3",
   "language": "python",
   "name": "python3"
  },
  "language_info": {
   "codemirror_mode": {
    "name": "ipython",
    "version": 3
   },
   "file_extension": ".py",
   "mimetype": "text/x-python",
   "name": "python",
   "nbconvert_exporter": "python",
   "pygments_lexer": "ipython3",
   "version": "3.7.6"
  },
  "latex_envs": {
   "LaTeX_envs_menu_present": true,
   "autoclose": false,
   "autocomplete": false,
   "bibliofile": "biblio.bib",
   "cite_by": "apalike",
   "current_citInitial": 1,
   "eqLabelWithNumbers": true,
   "eqNumInitial": 1,
   "hotkeys": {
    "equation": "Ctrl-E",
    "itemize": "Ctrl-I"
   },
   "labels_anchors": false,
   "latex_user_defs": false,
   "report_style_numbering": false,
   "user_envs_cfg": false
  }
 },
 "nbformat": 4,
 "nbformat_minor": 4
}
